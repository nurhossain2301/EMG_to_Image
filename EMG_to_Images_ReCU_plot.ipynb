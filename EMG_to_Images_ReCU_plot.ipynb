{
 "cells": [
  {
   "cell_type": "code",
   "execution_count": null,
   "metadata": {
    "scrolled": true
   },
   "outputs": [],
   "source": [
    "import numpy as np # linear algebra\n",
    "import pandas as pd # data processing, CSV file I/O (e.g. pd.read_csv)\n",
    "import scipy.io\n",
    "from scipy.spatial.distance import pdist, squareform #scipy spatial distance\n",
    "import sklearn as sk\n",
    "import sklearn.metrics.pairwise\n",
    "import matplotlib.pyplot as plt\n",
    "import os\n",
    "import keras\n",
    "from keras.models import Sequential\n",
    "from keras.layers import Dense, Dropout, Activation, Flatten\n",
    "from keras.layers import Convolution2D, MaxPooling2D, LeakyReLU\n",
    "from keras import metrics\n",
    "from keras import backend as K\n",
    "import time\n",
    "from skimage.transform import resize\n",
    "\n",
    "from sklearn.model_selection import train_test_split\n",
    "from keras.utils import to_categorical\n",
    "from keras.utils import np_utils"
   ]
  },
  {
   "cell_type": "code",
   "execution_count": null,
   "metadata": {},
   "outputs": [],
   "source": [
    "#reccurrence plot\n",
    "def recurrence_plot(s, eps=None, steps=None):\n",
    "    if eps==None: eps=0.1\n",
    "    if steps==None: steps=10\n",
    "    d = sk.metrics.pairwise.pairwise_distances(s)\n",
    "    d = np.floor(d / eps)\n",
    "    d[d > steps] = steps\n",
    "    #Z = squareform(d)\n",
    "    return d"
   ]
  },
  {
   "cell_type": "code",
   "execution_count": null,
   "metadata": {},
   "outputs": [],
   "source": [
    "mat = scipy.io.loadmat('../Dataset/EMG/tip_ch1_f2_overlapped.mat')\n",
    "EMG_data=mat['tip_ch1']\n",
    "mat_1 = scipy.io.loadmat('../Dataset/EMG/tip_ch2_f2_overlapped.mat')\n",
    "EMG_data_1=mat_1['tip_ch2']"
   ]
  },
  {
   "cell_type": "code",
   "execution_count": null,
   "metadata": {},
   "outputs": [],
   "source": [
    "EMG_data.shape"
   ]
  },
  {
   "cell_type": "code",
   "execution_count": null,
   "metadata": {},
   "outputs": [],
   "source": [
    "# fig = plt.figure(figsize=(15,14))\n",
    "# ax = fig.add_subplot(1, 2, 1)\n",
    "# x=EMG_data[1,:]\n",
    "# ax.imshow(recurrence_plot(x[:,None]))"
   ]
  },
  {
   "cell_type": "code",
   "execution_count": null,
   "metadata": {},
   "outputs": [],
   "source": [
    "for i in range(240):\n",
    "    x=EMG_data[i,:]\n",
    "    fig = plt.figure()\n",
    "    ax = fig.add_subplot(111)\n",
    "    ax.margins(0,0)\n",
    "    ax.xaxis.set_major_locator(plt.NullLocator())\n",
    "    ax.yaxis.set_major_locator(plt.NullLocator())\n",
    "    ax.imshow(recurrence_plot(x[:,None]))\n",
    "    plt.axis('off')\n",
    "    plt.savefig('tip_'+ str(i+1) +'.jpg', bbox_inches='tight' , pad_inches = 0)\n",
    "\n",
    "for i in range(240):\n",
    "    x=EMG_data_1[i,:]\n",
    "    fig = plt.figure()\n",
    "    ax = fig.add_subplot(111)\n",
    "    ax.margins(0,0)\n",
    "    ax.xaxis.set_major_locator(plt.NullLocator())\n",
    "    ax.yaxis.set_major_locator(plt.NullLocator())\n",
    "    ax.imshow(recurrence_plot(x[:,None]))\n",
    "    ax.imshow(recurrence_plot(x[:,None]))\n",
    "    plt.axis('off')\n",
    "    plt.savefig('tip_'+ str(i+241) +'.jpg', bbox_inches='tight', pad_inches = 0)"
   ]
  }
 ],
 "metadata": {
  "kernelspec": {
   "display_name": "Python 3",
   "language": "python",
   "name": "python3"
  },
  "language_info": {
   "codemirror_mode": {
    "name": "ipython",
    "version": 3
   },
   "file_extension": ".py",
   "mimetype": "text/x-python",
   "name": "python",
   "nbconvert_exporter": "python",
   "pygments_lexer": "ipython3",
   "version": "3.7.1"
  }
 },
 "nbformat": 4,
 "nbformat_minor": 2
}
