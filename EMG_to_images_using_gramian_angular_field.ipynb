{
 "cells": [
  {
   "cell_type": "code",
   "execution_count": null,
   "metadata": {},
   "outputs": [],
   "source": [
    "import matplotlib.pyplot as plt\n",
    "from mpl_toolkits.axes_grid1 import ImageGrid\n",
    "from pyts.image import GramianAngularField\n",
    "from pyts.datasets import load_gunpoint\n",
    "import scipy.io\n",
    "from sklearn import preprocessing\n",
    "import numpy as np\n",
    "\n"
   ]
  },
  {
   "cell_type": "code",
   "execution_count": null,
   "metadata": {},
   "outputs": [],
   "source": [
    "mat = scipy.io.loadmat('../Dataset/EMG/cyl_ch1_f2_overlapped.mat')\n",
    "EMG_data=mat['cyl_ch1']\n",
    "mat_1 = scipy.io.loadmat('../Dataset/EMG/cyl_ch2_f2_overlapped.mat')\n",
    "EMG_data_1=mat_1['cyl_ch2']\n",
    "X = EMG_data\n",
    "min_max_scaler = preprocessing.MinMaxScaler()\n",
    "X = min_max_scaler.fit_transform(X)\n",
    "\n",
    "Y = EMG_data_1\n",
    "min_max_scaler = preprocessing.MinMaxScaler()\n",
    "Y = min_max_scaler.fit_transform(Y)\n",
    "\n",
    "print(X.shape)"
   ]
  },
  {
   "cell_type": "code",
   "execution_count": null,
   "metadata": {},
   "outputs": [],
   "source": [
    "# Transform the time series into Gramian Angular Fields\n",
    "gasf = GramianAngularField(image_size=128, method='summation')\n",
    "X_gasf = gasf.fit_transform(X)\n",
    "Y_gasf = gasf.fit_transform(Y)\n",
    "gadf = GramianAngularField(image_size=128, method='difference')\n",
    "X_gadf = gadf.fit_transform(X)\n",
    "Y_gadf = gadf.fit_transform(Y)"
   ]
  },
  {
   "cell_type": "code",
   "execution_count": null,
   "metadata": {},
   "outputs": [],
   "source": [
    "fig = plt.figure()\n",
    "ax = fig.add_subplot(111)\n",
    "# grid = ImageGrid(fig, 111,\n",
    "#                  nrows_ncols=(1, 2),\n",
    "#                  axes_pad=0.15,\n",
    "#                  share_all=True,\n",
    "#                  cbar_location=\"right\",\n",
    "#                  cbar_mode=\"single\",\n",
    "#                  cbar_size=\"7%\",\n",
    "#                  cbar_pad=0.3,\n",
    "#                  )\n",
    "for i in range(240):\n",
    "    images = X_gasf[i]\n",
    "    ax.margins(0,0)\n",
    "    ax.xaxis.set_major_locator(plt.NullLocator())\n",
    "    ax.yaxis.set_major_locator(plt.NullLocator())\n",
    "    ax.imshow(images)\n",
    "    plt.axis('off')\n",
    "    plt.savefig('cyl_'+ str(i+1) +'.jpg', bbox_inches='tight' , pad_inches = 0)\n",
    "    \n",
    "for i in range(240):\n",
    "    images = Y_gasf[i]\n",
    "    ax.margins(0,0)\n",
    "    ax.xaxis.set_major_locator(plt.NullLocator())\n",
    "    ax.yaxis.set_major_locator(plt.NullLocator())\n",
    "    ax.imshow(images)\n",
    "    plt.axis('off')\n",
    "    plt.savefig('cyl_'+ str(i+241) +'.jpg', bbox_inches='tight' , pad_inches = 0)"
   ]
  }
 ],
 "metadata": {
  "kernelspec": {
   "display_name": "Python 3",
   "language": "python",
   "name": "python3"
  },
  "language_info": {
   "codemirror_mode": {
    "name": "ipython",
    "version": 3
   },
   "file_extension": ".py",
   "mimetype": "text/x-python",
   "name": "python",
   "nbconvert_exporter": "python",
   "pygments_lexer": "ipython3",
   "version": "3.7.1"
  }
 },
 "nbformat": 4,
 "nbformat_minor": 2
}
